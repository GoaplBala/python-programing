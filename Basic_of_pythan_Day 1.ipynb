{
 "cells": [
  {
   "cell_type": "code",
   "execution_count": 1,
   "id": "57473a2c",
   "metadata": {},
   "outputs": [
    {
     "name": "stdout",
     "output_type": "stream",
     "text": [
      "Hellow world\n"
     ]
    }
   ],
   "source": [
    "print(\"Hellow world\")"
   ]
  },
  {
   "cell_type": "code",
   "execution_count": 6,
   "id": "71351bed",
   "metadata": {},
   "outputs": [
    {
     "name": "stdout",
     "output_type": "stream",
     "text": [
      "Gopal Bala\n"
     ]
    }
   ],
   "source": [
    "print(\"Gopal Bala\")"
   ]
  },
  {
   "cell_type": "code",
   "execution_count": 7,
   "id": "420929ed",
   "metadata": {},
   "outputs": [
    {
     "name": "stdout",
     "output_type": "stream",
     "text": [
      "python\n"
     ]
    }
   ],
   "source": [
    "print(\"python\")"
   ]
  },
  {
   "cell_type": "markdown",
   "id": "8a7a0e74",
   "metadata": {},
   "source": [
    "### datatype"
   ]
  },
  {
   "cell_type": "code",
   "execution_count": 10,
   "id": "ac38387f",
   "metadata": {},
   "outputs": [
    {
     "data": {
      "text/plain": [
       "10"
      ]
     },
     "execution_count": 10,
     "metadata": {},
     "output_type": "execute_result"
    }
   ],
   "source": [
    "x=10\n",
    "x"
   ]
  },
  {
   "cell_type": "code",
   "execution_count": 11,
   "id": "f824a6b6",
   "metadata": {},
   "outputs": [
    {
     "name": "stdout",
     "output_type": "stream",
     "text": [
      "10\n"
     ]
    }
   ],
   "source": [
    "print(x)"
   ]
  },
  {
   "cell_type": "code",
   "execution_count": 12,
   "id": "ddb8ccf4",
   "metadata": {},
   "outputs": [
    {
     "data": {
      "text/plain": [
       "int"
      ]
     },
     "execution_count": 12,
     "metadata": {},
     "output_type": "execute_result"
    }
   ],
   "source": [
    "type(x)"
   ]
  },
  {
   "cell_type": "code",
   "execution_count": 15,
   "id": "8aa1f0b5",
   "metadata": {},
   "outputs": [
    {
     "data": {
      "text/plain": [
       "float"
      ]
     },
     "execution_count": 15,
     "metadata": {},
     "output_type": "execute_result"
    }
   ],
   "source": [
    "x=10.6\n",
    "type(x)"
   ]
  },
  {
   "cell_type": "markdown",
   "id": "f060ebce",
   "metadata": {},
   "source": [
    "### printing hellow world"
   ]
  },
  {
   "cell_type": "code",
   "execution_count": 16,
   "id": "e103fe8f",
   "metadata": {},
   "outputs": [
    {
     "data": {
      "text/plain": [
       "str"
      ]
     },
     "execution_count": 16,
     "metadata": {},
     "output_type": "execute_result"
    }
   ],
   "source": [
    "y=\"gopal\"\n",
    "type(y)"
   ]
  },
  {
   "cell_type": "code",
   "execution_count": 18,
   "id": "0ac09c91",
   "metadata": {},
   "outputs": [
    {
     "data": {
      "text/plain": [
       "bool"
      ]
     },
     "execution_count": 18,
     "metadata": {},
     "output_type": "execute_result"
    }
   ],
   "source": [
    "z=True\n",
    "type(z)"
   ]
  },
  {
   "cell_type": "code",
   "execution_count": 20,
   "id": "4dc27168",
   "metadata": {},
   "outputs": [
    {
     "data": {
      "text/plain": [
       "str"
      ]
     },
     "execution_count": 20,
     "metadata": {},
     "output_type": "execute_result"
    }
   ],
   "source": [
    "z=\"True\"\n",
    "type(z)"
   ]
  },
  {
   "cell_type": "code",
   "execution_count": 21,
   "id": "a369ba41",
   "metadata": {},
   "outputs": [
    {
     "data": {
      "text/plain": [
       "str"
      ]
     },
     "execution_count": 21,
     "metadata": {},
     "output_type": "execute_result"
    }
   ],
   "source": [
    "z='false'\n",
    "type(z)"
   ]
  },
  {
   "cell_type": "code",
   "execution_count": 24,
   "id": "efadd84a",
   "metadata": {},
   "outputs": [
    {
     "name": "stdout",
     "output_type": "stream",
     "text": [
      "<class 'str'>\n",
      "ai\n"
     ]
    }
   ],
   "source": [
    "course=\"ai\"\n",
    "print(type(course))\n",
    "print(course)"
   ]
  },
  {
   "cell_type": "code",
   "execution_count": 25,
   "id": "a7d17f95",
   "metadata": {},
   "outputs": [
    {
     "data": {
      "text/plain": [
       "(str, 'ai')"
      ]
     },
     "execution_count": 25,
     "metadata": {},
     "output_type": "execute_result"
    }
   ],
   "source": [
    "type(course),course"
   ]
  },
  {
   "cell_type": "markdown",
   "id": "c586d1f6",
   "metadata": {},
   "source": [
    "### rulse for naming varoiable"
   ]
  },
  {
   "cell_type": "code",
   "execution_count": 26,
   "id": "db1075a7",
   "metadata": {},
   "outputs": [
    {
     "data": {
      "text/plain": [
       "['python', 'ai', 'ds']"
      ]
     },
     "execution_count": 26,
     "metadata": {},
     "output_type": "execute_result"
    }
   ],
   "source": [
    "book_names=[\"python\",\"ai\",\"ds\"]\n",
    "book_names"
   ]
  },
  {
   "cell_type": "code",
   "execution_count": 27,
   "id": "c3904d00",
   "metadata": {},
   "outputs": [
    {
     "ename": "SyntaxError",
     "evalue": "invalid syntax (12361024.py, line 1)",
     "output_type": "error",
     "traceback": [
      "\u001b[1;36m  Cell \u001b[1;32mIn[27], line 1\u001b[1;36m\u001b[0m\n\u001b[1;33m    book names=[\"python\",\"ai\",\"ds\"]\u001b[0m\n\u001b[1;37m         ^\u001b[0m\n\u001b[1;31mSyntaxError\u001b[0m\u001b[1;31m:\u001b[0m invalid syntax\n"
     ]
    }
   ],
   "source": [
    "book names=[\"python\",\"ai\",\"ds\"]\n",
    "book names"
   ]
  },
  {
   "cell_type": "code",
   "execution_count": 28,
   "id": "3d263f4c",
   "metadata": {
    "scrolled": true
   },
   "outputs": [
    {
     "ename": "SyntaxError",
     "evalue": "cannot assign to expression here. Maybe you meant '==' instead of '='? (1527236370.py, line 1)",
     "output_type": "error",
     "traceback": [
      "\u001b[1;36m  Cell \u001b[1;32mIn[28], line 1\u001b[1;36m\u001b[0m\n\u001b[1;33m    book-names=[\"python\",\"ai\",\"ds\"]\u001b[0m\n\u001b[1;37m    ^\u001b[0m\n\u001b[1;31mSyntaxError\u001b[0m\u001b[1;31m:\u001b[0m cannot assign to expression here. Maybe you meant '==' instead of '='?\n"
     ]
    }
   ],
   "source": [
    "book-names=[\"python\",\"ai\",\"ds\"]\n",
    "book-names"
   ]
  },
  {
   "cell_type": "code",
   "execution_count": 29,
   "id": "d8efa4ac",
   "metadata": {},
   "outputs": [
    {
     "ename": "SyntaxError",
     "evalue": "invalid decimal literal (2956720424.py, line 1)",
     "output_type": "error",
     "traceback": [
      "\u001b[1;36m  Cell \u001b[1;32mIn[29], line 1\u001b[1;36m\u001b[0m\n\u001b[1;33m    3book_names=[\"python\",\"ai\",\"ds\"]\u001b[0m\n\u001b[1;37m    ^\u001b[0m\n\u001b[1;31mSyntaxError\u001b[0m\u001b[1;31m:\u001b[0m invalid decimal literal\n"
     ]
    }
   ],
   "source": [
    "3book_names=[\"python\",\"ai\",\"ds\"]\n",
    "3book_names"
   ]
  },
  {
   "cell_type": "code",
   "execution_count": 30,
   "id": "576ee9f9",
   "metadata": {},
   "outputs": [
    {
     "data": {
      "text/plain": [
       "['python', 'ai', 'ds']"
      ]
     },
     "execution_count": 30,
     "metadata": {},
     "output_type": "execute_result"
    }
   ],
   "source": [
    "b3ook_names=[\"python\",\"ai\",\"ds\"]\n",
    "b3ook_names"
   ]
  },
  {
   "cell_type": "code",
   "execution_count": 31,
   "id": "47be55b9",
   "metadata": {},
   "outputs": [
    {
     "data": {
      "text/plain": [
       "['python', 'ai', 'ds']"
      ]
     },
     "execution_count": 31,
     "metadata": {},
     "output_type": "execute_result"
    }
   ],
   "source": [
    "booknames=[\"python\",\"ai\",\"ds\"]\n",
    "booknames"
   ]
  },
  {
   "cell_type": "markdown",
   "id": "3f5d2c89",
   "metadata": {},
   "source": [
    "##### space is not allowed\n",
    "##### only allow spcial charecter is undercore\n",
    "##### variable name not start with a number\n",
    "##### Variable name should start with A-Z, a-z or undercore"
   ]
  },
  {
   "cell_type": "markdown",
   "id": "60c850bd",
   "metadata": {},
   "source": [
    "#### Data structures"
   ]
  },
  {
   "cell_type": "markdown",
   "id": "218b099b",
   "metadata": {},
   "source": [
    "#### parathesis\n",
    "#### we can retrive element using index start form 0\n",
    "#### Imutable -> we can make the chenge "
   ]
  },
  {
   "cell_type": "code",
   "execution_count": 36,
   "id": "800eddfc",
   "metadata": {},
   "outputs": [
    {
     "data": {
      "text/plain": [
       "[10, 2, 3, 4, 5, 1, 'hi']"
      ]
     },
     "execution_count": 36,
     "metadata": {},
     "output_type": "execute_result"
    }
   ],
   "source": [
    "sample_list=[10,2,3,4,5,1,\"hi\"]\n",
    "sample_list"
   ]
  },
  {
   "cell_type": "code",
   "execution_count": 35,
   "id": "b24a7649",
   "metadata": {},
   "outputs": [
    {
     "data": {
      "text/plain": [
       "list"
      ]
     },
     "execution_count": 35,
     "metadata": {},
     "output_type": "execute_result"
    }
   ],
   "source": [
    "type(sample_list)"
   ]
  },
  {
   "cell_type": "code",
   "execution_count": 39,
   "id": "9c78b19a",
   "metadata": {},
   "outputs": [
    {
     "data": {
      "text/plain": [
       "4"
      ]
     },
     "execution_count": 39,
     "metadata": {},
     "output_type": "execute_result"
    }
   ],
   "source": [
    "sample_list[3]"
   ]
  },
  {
   "cell_type": "code",
   "execution_count": 40,
   "id": "871e09d8",
   "metadata": {},
   "outputs": [
    {
     "ename": "IndexError",
     "evalue": "list index out of range",
     "output_type": "error",
     "traceback": [
      "\u001b[1;31m---------------------------------------------------------------------------\u001b[0m",
      "\u001b[1;31mIndexError\u001b[0m                                Traceback (most recent call last)",
      "Cell \u001b[1;32mIn[40], line 1\u001b[0m\n\u001b[1;32m----> 1\u001b[0m \u001b[43msample_list\u001b[49m\u001b[43m[\u001b[49m\u001b[38;5;241;43m10\u001b[39;49m\u001b[43m]\u001b[49m\n",
      "\u001b[1;31mIndexError\u001b[0m: list index out of range"
     ]
    }
   ],
   "source": [
    "sample_list[10]"
   ]
  },
  {
   "cell_type": "code",
   "execution_count": 43,
   "id": "db8f45dd",
   "metadata": {},
   "outputs": [
    {
     "data": {
      "text/plain": [
       "[100, 2, 3, 4, 5, 1, 'hi']"
      ]
     },
     "execution_count": 43,
     "metadata": {},
     "output_type": "execute_result"
    }
   ],
   "source": [
    "sample_list[0]=100\n",
    "sample_list"
   ]
  },
  {
   "cell_type": "code",
   "execution_count": 47,
   "id": "657ff16d",
   "metadata": {},
   "outputs": [
    {
     "data": {
      "text/plain": [
       "[10, 2, 3, 4, 5, 1, 'hi']"
      ]
     },
     "execution_count": 47,
     "metadata": {},
     "output_type": "execute_result"
    }
   ],
   "source": [
    "sample_tuple=[10,2,3,4,5,1,\"hi\"]\n",
    "sample_tuple"
   ]
  },
  {
   "cell_type": "code",
   "execution_count": 51,
   "id": "213948ac",
   "metadata": {},
   "outputs": [
    {
     "data": {
      "text/plain": [
       "list"
      ]
     },
     "execution_count": 51,
     "metadata": {},
     "output_type": "execute_result"
    }
   ],
   "source": [
    "type(sample_tuple)"
   ]
  },
  {
   "cell_type": "code",
   "execution_count": 53,
   "id": "7556cff4",
   "metadata": {},
   "outputs": [
    {
     "data": {
      "text/plain": [
       "10"
      ]
     },
     "execution_count": 53,
     "metadata": {},
     "output_type": "execute_result"
    }
   ],
   "source": [
    "sample_tuple[0]"
   ]
  },
  {
   "cell_type": "code",
   "execution_count": 54,
   "id": "a2b09e95",
   "metadata": {},
   "outputs": [
    {
     "ename": "IndexError",
     "evalue": "list index out of range",
     "output_type": "error",
     "traceback": [
      "\u001b[1;31m---------------------------------------------------------------------------\u001b[0m",
      "\u001b[1;31mIndexError\u001b[0m                                Traceback (most recent call last)",
      "Cell \u001b[1;32mIn[54], line 1\u001b[0m\n\u001b[1;32m----> 1\u001b[0m \u001b[43msample_tuple\u001b[49m\u001b[43m[\u001b[49m\u001b[38;5;241;43m10\u001b[39;49m\u001b[43m]\u001b[49m\n",
      "\u001b[1;31mIndexError\u001b[0m: list index out of range"
     ]
    }
   ],
   "source": [
    "sample_tuple[10]"
   ]
  },
  {
   "cell_type": "code",
   "execution_count": 55,
   "id": "2850d8e0",
   "metadata": {},
   "outputs": [
    {
     "data": {
      "text/plain": [
       "[100, 2, 3, 4, 5, 1, 'hi']"
      ]
     },
     "execution_count": 55,
     "metadata": {},
     "output_type": "execute_result"
    }
   ],
   "source": [
    "sample_tuple[0]=100\n",
    "sample_tuple"
   ]
  },
  {
   "cell_type": "markdown",
   "id": "3bd431ad",
   "metadata": {},
   "source": [
    "##### {}\n",
    "##### dublicate are not allowed\n",
    "##### arranged according to first place\n",
    "##### cannot access using index\n",
    "##### set is mutable"
   ]
  },
  {
   "cell_type": "code",
   "execution_count": 57,
   "id": "c684240c",
   "metadata": {},
   "outputs": [
    {
     "data": {
      "text/plain": [
       "{1, 10, 2, 23.5, 3, 34, 4, 'apple', 'hi'}"
      ]
     },
     "execution_count": 57,
     "metadata": {},
     "output_type": "execute_result"
    }
   ],
   "source": [
    "sample_set={1,2,3,4,10,34,23.5,\"hi\",2,\"apple\"}\n",
    "sample_set"
   ]
  },
  {
   "cell_type": "code",
   "execution_count": 58,
   "id": "258562d2",
   "metadata": {},
   "outputs": [
    {
     "ename": "TypeError",
     "evalue": "'set' object is not subscriptable",
     "output_type": "error",
     "traceback": [
      "\u001b[1;31m---------------------------------------------------------------------------\u001b[0m",
      "\u001b[1;31mTypeError\u001b[0m                                 Traceback (most recent call last)",
      "Cell \u001b[1;32mIn[58], line 1\u001b[0m\n\u001b[1;32m----> 1\u001b[0m \u001b[43msample_set\u001b[49m\u001b[43m[\u001b[49m\u001b[38;5;241;43m0\u001b[39;49m\u001b[43m]\u001b[49m\n",
      "\u001b[1;31mTypeError\u001b[0m: 'set' object is not subscriptable"
     ]
    }
   ],
   "source": [
    "sample_set[0]"
   ]
  },
  {
   "cell_type": "code",
   "execution_count": 60,
   "id": "ccd855a0",
   "metadata": {},
   "outputs": [
    {
     "ename": "TypeError",
     "evalue": "'set' object does not support item assignment",
     "output_type": "error",
     "traceback": [
      "\u001b[1;31m---------------------------------------------------------------------------\u001b[0m",
      "\u001b[1;31mTypeError\u001b[0m                                 Traceback (most recent call last)",
      "Cell \u001b[1;32mIn[60], line 1\u001b[0m\n\u001b[1;32m----> 1\u001b[0m sample_set[\u001b[38;5;241m0\u001b[39m]\u001b[38;5;241m=\u001b[39m(\u001b[38;5;241m100\u001b[39m)\n",
      "\u001b[1;31mTypeError\u001b[0m: 'set' object does not support item assignment"
     ]
    }
   ],
   "source": [
    " sample_set[0]=(100)"
   ]
  },
  {
   "cell_type": "code",
   "execution_count": 61,
   "id": "34906228",
   "metadata": {},
   "outputs": [],
   "source": [
    "sample_set.add(100)"
   ]
  },
  {
   "cell_type": "code",
   "execution_count": 62,
   "id": "f76956ca",
   "metadata": {},
   "outputs": [
    {
     "data": {
      "text/plain": [
       "{1, 10, 100, 2, 23.5, 3, 34, 4, 'apple', 'hi'}"
      ]
     },
     "execution_count": 62,
     "metadata": {},
     "output_type": "execute_result"
    }
   ],
   "source": [
    "sample_set"
   ]
  },
  {
   "cell_type": "code",
   "execution_count": null,
   "id": "387ee3a9",
   "metadata": {},
   "outputs": [],
   "source": [
    "sample_set.remove(\"hi\")"
   ]
  },
  {
   "cell_type": "code",
   "execution_count": 66,
   "id": "f7e7afb3",
   "metadata": {},
   "outputs": [
    {
     "data": {
      "text/plain": [
       "{1, 10, 100, 2, 23.5, 3, 34, 4, 'apple', 'hi'}"
      ]
     },
     "execution_count": 66,
     "metadata": {},
     "output_type": "execute_result"
    }
   ],
   "source": [
    "sample_set"
   ]
  },
  {
   "cell_type": "markdown",
   "id": "6729348a",
   "metadata": {},
   "source": [
    "# dictionary"
   ]
  },
  {
   "cell_type": "markdown",
   "id": "64f5019b",
   "metadata": {},
   "source": [
    "### has key-value pair data structure"
   ]
  },
  {
   "cell_type": "markdown",
   "id": "93db6553",
   "metadata": {},
   "source": [
    "### key is unique"
   ]
  },
  {
   "cell_type": "markdown",
   "id": "7160b866",
   "metadata": {},
   "source": [
    "### value can be dublicate"
   ]
  },
  {
   "cell_type": "markdown",
   "id": "bc4e522e",
   "metadata": {},
   "source": [
    "### value can be retrived using key"
   ]
  },
  {
   "cell_type": "markdown",
   "id": "8da761be",
   "metadata": {},
   "source": [
    "### key cannot be retrive using value"
   ]
  },
  {
   "cell_type": "code",
   "execution_count": 8,
   "id": "5f1ef243",
   "metadata": {},
   "outputs": [
    {
     "ename": "SyntaxError",
     "evalue": "invalid syntax (3559469373.py, line 1)",
     "output_type": "error",
     "traceback": [
      "\u001b[1;36m  Cell \u001b[1;32mIn[8], line 1\u001b[1;36m\u001b[0m\n\u001b[1;33m    sample_dict{1:\"apple\",2:35.4,3:\"data\",2:\"every\",6:35.4,7:35.4,2:\"hi\"}\u001b[0m\n\u001b[1;37m               ^\u001b[0m\n\u001b[1;31mSyntaxError\u001b[0m\u001b[1;31m:\u001b[0m invalid syntax\n"
     ]
    }
   ],
   "source": [
    "sample_dict{1:\"apple\",2:35.4,3:\"data\",2:\"every\",6:35.4,7:35.4,2:\"hi\"}\n",
    "sample_dict"
   ]
  },
  {
   "cell_type": "code",
   "execution_count": 6,
   "id": "5c9639d6",
   "metadata": {},
   "outputs": [
    {
     "ename": "NameError",
     "evalue": "name 'sample_dice' is not defined",
     "output_type": "error",
     "traceback": [
      "\u001b[1;31m---------------------------------------------------------------------------\u001b[0m",
      "\u001b[1;31mNameError\u001b[0m                                 Traceback (most recent call last)",
      "Cell \u001b[1;32mIn[6], line 1\u001b[0m\n\u001b[1;32m----> 1\u001b[0m \u001b[43msample_dice\u001b[49m[\u001b[38;5;241m7\u001b[39m]\u001b[38;5;241m=\u001b[39m\u001b[38;5;241m100\u001b[39m\n",
      "\u001b[1;31mNameError\u001b[0m: name 'sample_dice' is not defined"
     ]
    }
   ],
   "source": [
    "sample_dice[7]=100"
   ]
  },
  {
   "cell_type": "code",
   "execution_count": 4,
   "id": "bb1080b4",
   "metadata": {},
   "outputs": [
    {
     "ename": "NameError",
     "evalue": "name 'sample_dict' is not defined",
     "output_type": "error",
     "traceback": [
      "\u001b[1;31m---------------------------------------------------------------------------\u001b[0m",
      "\u001b[1;31mNameError\u001b[0m                                 Traceback (most recent call last)",
      "Cell \u001b[1;32mIn[4], line 1\u001b[0m\n\u001b[1;32m----> 1\u001b[0m \u001b[43msample_dict\u001b[49m[\u001b[38;5;241m3\u001b[39m]\n",
      "\u001b[1;31mNameError\u001b[0m: name 'sample_dict' is not defined"
     ]
    }
   ],
   "source": [
    "sample_dict[3]"
   ]
  },
  {
   "cell_type": "code",
   "execution_count": 10,
   "id": "2ceb16bd",
   "metadata": {},
   "outputs": [
    {
     "ename": "NameError",
     "evalue": "name 'np' is not defined",
     "output_type": "error",
     "traceback": [
      "\u001b[1;31m---------------------------------------------------------------------------\u001b[0m",
      "\u001b[1;31mNameError\u001b[0m                                 Traceback (most recent call last)",
      "Cell \u001b[1;32mIn[10], line 1\u001b[0m\n\u001b[1;32m----> 1\u001b[0m \u001b[43mnp\u001b[49m\u001b[38;5;241m.\u001b[39mlinspace(\u001b[38;5;241m0\u001b[39m,\u001b[38;5;241m1\u001b[39m,\u001b[38;5;241m5\u001b[39m)\n",
      "\u001b[1;31mNameError\u001b[0m: name 'np' is not defined"
     ]
    }
   ],
   "source": [
    "np.linspace(0,1,5)"
   ]
  },
  {
   "cell_type": "code",
   "execution_count": 2,
   "id": "b75995da",
   "metadata": {},
   "outputs": [
    {
     "ename": "NameError",
     "evalue": "name 'mydata' is not defined",
     "output_type": "error",
     "traceback": [
      "\u001b[1;31m---------------------------------------------------------------------------\u001b[0m",
      "\u001b[1;31mNameError\u001b[0m                                 Traceback (most recent call last)",
      "Cell \u001b[1;32mIn[2], line 1\u001b[0m\n\u001b[1;32m----> 1\u001b[0m \u001b[43mmydata\u001b[49m\u001b[38;5;241m.\u001b[39mdescribe()\n",
      "\u001b[1;31mNameError\u001b[0m: name 'mydata' is not defined"
     ]
    }
   ],
   "source": [
    "mydata.describe()"
   ]
  },
  {
   "cell_type": "code",
   "execution_count": null,
   "id": "9b03d353",
   "metadata": {},
   "outputs": [],
   "source": []
  }
 ],
 "metadata": {
  "kernelspec": {
   "display_name": "Python 3 (ipykernel)",
   "language": "python",
   "name": "python3"
  },
  "language_info": {
   "codemirror_mode": {
    "name": "ipython",
    "version": 3
   },
   "file_extension": ".py",
   "mimetype": "text/x-python",
   "name": "python",
   "nbconvert_exporter": "python",
   "pygments_lexer": "ipython3",
   "version": "3.10.9"
  }
 },
 "nbformat": 4,
 "nbformat_minor": 5
}
